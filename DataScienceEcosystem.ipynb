#Ejercicio 1: Crear un cuaderno Jupyter.   ✔    
#Ejercicio 2: Crear una celda de markdown con el título del cuaderno.   ✔   
#Ejercicio 3: Crear una celda de Markdown para una introducción.   ✔


## Introducción.
In this notebook, the tools and ecosystem of data science are summarized by a student from Andres Bello University

**Objectives:**

-List popular languages for Data Science
-Discuss the most common libraries in data science
-Understand basic mathematical operations in Python
-Learn to perform simple operations, such as converting minutes to hours
-Learn the key tools and environments for data science








#Ejercicio 4: Crear una celda de Markdown para enumerar los lenguajes de ciencia de datos.   ✔

Some of the popular languages that Data Scientists use are:
  1. Python  
   2. R  
   3. SQL   
   4. Java  


#Ejercicio 5: Crear una celda de Markdown para enumerar las bibliotecas de ciencia de datos.   ✔

Some of the commonly used libraries used by Data Scientists include:
  1. Matplotlib
  2. Scikit-learn
  3. Pandas  
  4. NumPy


Ejercicio 6: Crear una celda de Markdown con una tabla de herramientas de ciencia de datos.   ✔

    | Data Science Tools       |
    |--------------------------|     
    | Jupyter Notebook         |
    | RStudio                  |
    | Apache Zeppelin          |


Ejercicio 7: Crear una celda de Markdown que presente ejemplos de expresiones aritméticas.   ✔

Below are a few examples of evaluating arithmetic expressions in Python
   -`5 + 3` gives **8**  
   -`10 - 4` gives **6**  
   -`7 * 2` gives **14**


Ejercicio 8 – Crear una celda de código para multiplicar y sumar números.   ✔

This a simple arithmetic expression to mutiply then add integers
  calculation = (3 * 4) + 5
  print(calculation)    


Ejercicio 9 – Crear una celda de código para convertir minutos a horas.   ✔
  
This will convert 200 minutes to hours by diving by 60
  hrs = 200 / 60
   print(hrs)


Ejercicio 10: Insertar una celda de Markdown para enumerar los objetivos.   ✔

Ejercicio 11: Crear una celda de Markdown para indicar el nombre del autor.   ✔

## Author
-Vicente Pradenas

Ejercicio 12 - Comparta su cuaderno a través de GitHub.   ✔

Ejercicio 13 - Haga una captura de pantalla de la primera página del cuaderno.   ✔
